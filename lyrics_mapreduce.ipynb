{
 "cells": [
  {
   "cell_type": "code",
   "execution_count": 1,
   "id": "functioning-width",
   "metadata": {},
   "outputs": [],
   "source": [
    "from pyspark.sql import SparkSession\n",
    "from operator import add\n",
    "\n",
    "# New API\n",
    "spark_session = SparkSession\\\n",
    "        .builder\\\n",
    "        .master(\"spark://192.168.2.111:7077\") \\\n",
    "        .appName(\"lyrics_mapreduce\")\\\n",
    "        .config(\"spark.dynamicAllocation.executorIdleTimeout\",\"30s\")\\\n",
    "        .config(\"spark.executor.cores\", 4)\\\n",
    "        .config(\"spark.driver.port\",9998)\\\n",
    "        .config(\"spark.blockManager.port\",10005)\\\n",
    "        .getOrCreate()\n",
    "\n",
    "# Old API (RDD)\n",
    "spark_context = spark_session.sparkContext\n",
    "\n",
    "spark_context.setLogLevel(\"INFO\")"
   ]
  },
  {
   "cell_type": "code",
   "execution_count": 2,
   "id": "stock-grass",
   "metadata": {},
   "outputs": [
    {
     "data": {
      "text/plain": [
       "19045332"
      ]
     },
     "execution_count": 2,
     "metadata": {},
     "output_type": "execute_result"
    }
   ],
   "source": [
    "import pyspark.sql.functions as F\n",
    "\n",
    "#Get most frequent words for each song ID\n",
    "lyrics = spark_session.read\\\n",
    "           .option(\"header\", \"true\")\\\n",
    "           .csv(\"hdfs://192.168.2.111:9000/user/ubuntu/lyrics_database.csv\")\\\n",
    "            .cache()\n",
    "\n",
    "#Get genre tags for each song ID\n",
    "lastfm = spark_session.read\\\n",
    "           .json(\"hdfs://192.168.2.111:9000/user/ubuntu/lastfm/lastfm_test/*/*/*\")\\\n",
    "            .repartition(30)\\\n",
    "           .cache()\n",
    "\n",
    "lyrics.count()"
   ]
  },
  {
   "cell_type": "code",
   "execution_count": null,
   "id": "legitimate-cleveland",
   "metadata": {},
   "outputs": [],
   "source": []
  },
  {
   "cell_type": "code",
   "execution_count": null,
   "id": "coupled-timber",
   "metadata": {},
   "outputs": [],
   "source": [
    "from pyspark.sql.types import *\n",
    "\n",
    "#Filter out irrelevant attributes in genre dataset\n",
    "genre = lastfm.filter(F.size(lastfm[\"tags\"]) > 0 )\\\n",
    "        .select(\"tags\", \"track_id\")\\\n",
    "        .cache()\n",
    "\n",
    "genre.count()"
   ]
  },
  {
   "cell_type": "code",
   "execution_count": 4,
   "id": "ordered-amendment",
   "metadata": {},
   "outputs": [
    {
     "name": "stdout",
     "output_type": "stream",
     "text": [
      "+----+-----+------------------+\n",
      "|word|count|          track_id|\n",
      "+----+-----+------------------+\n",
      "|   i|    6|TRAAAAV128F421A322|\n",
      "| the|    4|TRAAAAV128F421A322|\n",
      "| you|    2|TRAAAAV128F421A322|\n",
      "+----+-----+------------------+\n",
      "only showing top 3 rows\n",
      "\n",
      "+--------------------+------------------+\n",
      "|                tags|          track_id|\n",
      "+--------------------+------------------+\n",
      "|[[doo wop, 100], ...|TRBHKLA128F930E217|\n",
      "|[[soul, 100], [mo...|TRDTXAH128F9322744|\n",
      "|[[Disco, 100], [7...|TRLYCFR128F92DF670|\n",
      "|[[oldies, 100], [...|TRTIGVQ12903D03BA4|\n",
      "+--------------------+------------------+\n",
      "only showing top 4 rows\n",
      "\n",
      "root\n",
      " |-- tags: array (nullable = true)\n",
      " |    |-- element: array (containsNull = true)\n",
      " |    |    |-- element: string (containsNull = true)\n",
      " |-- track_id: string (nullable = true)\n",
      "\n",
      "root\n",
      " |-- word: string (nullable = true)\n",
      " |-- count: string (nullable = true)\n",
      " |-- track_id: string (nullable = true)\n",
      "\n"
     ]
    },
    {
     "data": {
      "text/plain": [
       "19045332"
      ]
     },
     "execution_count": 4,
     "metadata": {},
     "output_type": "execute_result"
    }
   ],
   "source": [
    "#Look at data\n",
    "\n",
    "lyrics.show(3)\n",
    "genre.show(4)\n",
    "genre.printSchema()\n",
    "lyrics.printSchema()"
   ]
  },
  {
   "cell_type": "code",
   "execution_count": 5,
   "id": "friendly-copper",
   "metadata": {},
   "outputs": [
    {
     "name": "stdout",
     "output_type": "stream",
     "text": [
      "+------------------+----+-----+--------------------+\n",
      "|          track_id|word|count|                tags|\n",
      "+------------------+----+-----+--------------------+\n",
      "|TRAADFO128F92E1E91|   i|   79|[[dancehall, 100]...|\n",
      "|TRAADFO128F92E1E91| the|   66|[[dancehall, 100]...|\n",
      "|TRAADFO128F92E1E91| you|   15|[[dancehall, 100]...|\n",
      "|TRAADFO128F92E1E91|  to|    7|[[dancehall, 100]...|\n",
      "+------------------+----+-----+--------------------+\n",
      "only showing top 4 rows\n",
      "\n"
     ]
    },
    {
     "data": {
      "text/plain": [
       "1622597"
      ]
     },
     "execution_count": 5,
     "metadata": {},
     "output_type": "execute_result"
    }
   ],
   "source": [
    "#Join both datasets on their ID\n",
    "paired_songs = lyrics.join(genre, \"track_id\").cache()\n",
    "paired_songs.show(4)\n",
    "\n",
    "paired_songs.count()"
   ]
  },
  {
   "cell_type": "code",
   "execution_count": 6,
   "id": "ecological-christopher",
   "metadata": {},
   "outputs": [
    {
     "name": "stdout",
     "output_type": "stream",
     "text": [
      "+----+-----+------------------+\n",
      "|word|count|             genre|\n",
      "+----+-----+------------------+\n",
      "|will|    4|  [dancehall, 100]|\n",
      "|will|    4|[raggamuffin, 100]|\n",
      "|know|    3|  [dancehall, 100]|\n",
      "+----+-----+------------------+\n",
      "only showing top 3 rows\n",
      "\n"
     ]
    }
   ],
   "source": [
    "from stop_words import get_stop_words\n",
    "\n",
    "#Filter stopwords from the frequent words\n",
    "stopwords = get_stop_words(\"english\")\n",
    "#ONLY RUN ONCE - For more interesting results\n",
    "# stopwords.append(\"just\")\n",
    "# stopwords.append(\"will\")\n",
    "\n",
    "#Create new DataFrame with a column recasting count to integer\n",
    "songs_int_count = paired_songs.filter(paired_songs['word'].isin(stopwords)==False)\\\n",
    "                        .withColumn(\"wordcount\", songs_expanded[\"count\"].cast(IntegerType()))\\\n",
    "                        .drop(\"count\")\\\n",
    "\n",
    "#Create new DataFrame that contains one row for each genre tag, the word, and the word count in each song\n",
    "songs_expanded = songs_int_count.select(\"word\",\\\n",
    "                                \"wordcount\",\\\n",
    "                                F.explode(paired_songs[\"tags\"]))\\\n",
    "                        .withColumnRenamed(\"col\",\"genre\")\\\n",
    "                        .cache()\n",
    "    \n",
    "songs_expanded.show(3)"
   ]
  },
  {
   "cell_type": "code",
   "execution_count": 7,
   "id": "swedish-justice",
   "metadata": {},
   "outputs": [
    {
     "name": "stdout",
     "output_type": "stream",
     "text": [
      "+----+-----------+---------+\n",
      "|word|      genre|wordcount|\n",
      "+----+-----------+---------+\n",
      "|will|  dancehall|        4|\n",
      "|will|raggamuffin|        4|\n",
      "+----+-----------+---------+\n",
      "only showing top 2 rows\n",
      "\n"
     ]
    }
   ],
   "source": [
    "import pyspark.sql.types\n",
    "\n",
    "#Remove second element in tuple to obtain only genre tag\n",
    "def remove_similarity(genre_tuple):\n",
    "    genre, _ = genre_tuple\n",
    "            \n",
    "    return genre\n",
    "\n",
    "tags_function = F.udf(remove_similarity, StringType())\n",
    "\n",
    "#Cast count to an integer type and remove second element in genre tuple \n",
    "wordcount_genre = songs_expanded.withColumn(\"genre\", tags_function(songs_expanded[\"genre\"]))\\\n",
    "                            .cache()\n",
    "\n",
    "wordcount_genre.show(2)"
   ]
  },
  {
   "cell_type": "code",
   "execution_count": 8,
   "id": "rapid-institution",
   "metadata": {},
   "outputs": [
    {
     "name": "stdout",
     "output_type": "stream",
     "text": [
      "+----+----------------+--------------+\n",
      "|word|           genre|sum(wordcount)|\n",
      "+----+----------------+--------------+\n",
      "|will|            rock|          8996|\n",
      "|love|             pop|          7432|\n",
      "|know|            rock|          6546|\n",
      "|will|             pop|          6455|\n",
      "|know|             pop|          5858|\n",
      "|love|            rock|          5674|\n",
      "|just|            rock|          5561|\n",
      "|will|     alternative|          5212|\n",
      "|like|            rock|          5164|\n",
      "|  oh|             pop|          4942|\n",
      "| now|            rock|          4826|\n",
      "|will|           indie|          4815|\n",
      "|just|             pop|          4696|\n",
      "|  go|            rock|          4691|\n",
      "| can|            rock|          4574|\n",
      "|love|            Love|          4545|\n",
      "|time|            rock|          4541|\n",
      "|like|             pop|          4533|\n",
      "|come|            rock|          4312|\n",
      "|will|female vocalists|          4204|\n",
      "+----+----------------+--------------+\n",
      "only showing top 20 rows\n",
      "\n"
     ]
    }
   ],
   "source": [
    "# Group elements with common genre and word, and sum their wordcounts\n",
    "wordcount_genre.groupBy(\"word\", \"genre\")\\\n",
    "                .agg(F.sum(\"wordcount\"))\\\n",
    "                .sort(\"sum(wordcount)\",ascending=False)\\\n",
    "                .show()"
   ]
  },
  {
   "cell_type": "code",
   "execution_count": 9,
   "id": "revolutionary-simple",
   "metadata": {},
   "outputs": [
    {
     "name": "stdout",
     "output_type": "stream",
     "text": [
      "+-----------+-----+-----+\n",
      "|      genre| word|count|\n",
      "+-----------+-----+-----+\n",
      "|       rock| will| 2638|\n",
      "|       rock| know| 2253|\n",
      "|       rock| just| 2171|\n",
      "|       rock| like| 1921|\n",
      "|       rock|  now| 1879|\n",
      "|       rock| time| 1850|\n",
      "|       rock|  can| 1767|\n",
      "|        pop| will| 1740|\n",
      "|        pop| know| 1713|\n",
      "|       rock|   go| 1695|\n",
      "|       rock|  see| 1690|\n",
      "|       rock| come| 1627|\n",
      "|        pop| just| 1600|\n",
      "|       rock|  one| 1592|\n",
      "|       rock| love| 1566|\n",
      "|       rock| feel| 1526|\n",
      "|       rock|  get| 1517|\n",
      "|alternative| will| 1503|\n",
      "|        pop| love| 1496|\n",
      "|       rock|never| 1413|\n",
      "|        pop| like| 1410|\n",
      "|       rock| make| 1392|\n",
      "|       rock|  say| 1386|\n",
      "|       rock|  way| 1360|\n",
      "|        pop|  can| 1356|\n",
      "|       rock| take| 1355|\n",
      "|      indie| will| 1353|\n",
      "|        pop| time| 1352|\n",
      "|       rock|  got| 1339|\n",
      "|        pop|  now| 1308|\n",
      "|       rock|   ca| 1297|\n",
      "|        pop|   go| 1290|\n",
      "|        pop|  see| 1253|\n",
      "|alternative| know| 1238|\n",
      "|       rock| want| 1234|\n",
      "|       rock|  day| 1214|\n",
      "|       rock| away| 1208|\n",
      "|       rock| back| 1198|\n",
      "|        pop| come| 1197|\n",
      "|alternative| just| 1181|\n",
      "+-----------+-----+-----+\n",
      "only showing top 40 rows\n",
      "\n"
     ]
    }
   ],
   "source": [
    "#Group elements by genre and word, to see which pairs are the most frequent\n",
    "wordcount_genre.groupBy(\"genre\", \"word\")\\\n",
    "                .count()\\\n",
    "                .sort(\"count\", ascending=False)\\\n",
    "                .show(40)"
   ]
  },
  {
   "cell_type": "code",
   "execution_count": 10,
   "id": "noticed-computer",
   "metadata": {},
   "outputs": [
    {
     "name": "stdout",
     "output_type": "stream",
     "text": [
      "+-----------------+------+\n",
      "|            genre| count|\n",
      "+-----------------+------+\n",
      "|             rock|277460|\n",
      "|              pop|198881|\n",
      "|      alternative|155521|\n",
      "|            indie|136971|\n",
      "| female vocalists|121475|\n",
      "|          Hip-Hop|118674|\n",
      "|            metal|114356|\n",
      "|        favorites|112787|\n",
      "|          hip hop| 98754|\n",
      "|              rap| 98415|\n",
      "|              00s| 97088|\n",
      "|             Love| 95319|\n",
      "| alternative rock| 90408|\n",
      "|        seen live| 81291|\n",
      "|        beautiful| 75017|\n",
      "|   male vocalists| 74259|\n",
      "|       indie rock| 73948|\n",
      "|          Awesome| 72476|\n",
      "|singer-songwriter| 72124|\n",
      "|            dance| 70189|\n",
      "+-----------------+------+\n",
      "only showing top 20 rows\n",
      "\n"
     ]
    }
   ],
   "source": [
    "# To find most common genres\n",
    "\n",
    "wordcount_genre.groupBy(\"genre\")\\\n",
    "                .count()\\\n",
    "                .sort(\"count\", ascending=False)\\\n",
    "                .show()"
   ]
  },
  {
   "cell_type": "code",
   "execution_count": 11,
   "id": "congressional-notion",
   "metadata": {},
   "outputs": [
    {
     "name": "stdout",
     "output_type": "stream",
     "text": [
      "+-----+----+--------------+\n",
      "|genre|word|sum(wordcount)|\n",
      "+-----+----+--------------+\n",
      "|  pop|love|          7432|\n",
      "|  pop|will|          6455|\n",
      "|  pop|know|          5858|\n",
      "|  pop|  oh|          4942|\n",
      "|  pop|just|          4696|\n",
      "|  pop|like|          4533|\n",
      "|  pop| can|          4086|\n",
      "|  pop| get|          3790|\n",
      "|  pop|  go|          3770|\n",
      "|  pop| now|          3663|\n",
      "+-----+----+--------------+\n",
      "\n",
      "+-----------+----+--------------+\n",
      "|      genre|word|sum(wordcount)|\n",
      "+-----------+----+--------------+\n",
      "|alternative|will|          5212|\n",
      "|alternative|know|          3645|\n",
      "|alternative|like|          3253|\n",
      "|alternative|just|          3083|\n",
      "|alternative|love|          2777|\n",
      "|alternative| now|          2648|\n",
      "|alternative|time|          2428|\n",
      "|alternative| can|          2409|\n",
      "|alternative|  go|          2383|\n",
      "|alternative| get|          2370|\n",
      "+-----------+----+--------------+\n",
      "\n",
      "+-----+----+--------------+\n",
      "|genre|word|sum(wordcount)|\n",
      "+-----+----+--------------+\n",
      "|indie|will|          4815|\n",
      "|indie|know|          3182|\n",
      "|indie|just|          2712|\n",
      "|indie|like|          2607|\n",
      "|indie| now|          2250|\n",
      "|indie|love|          2203|\n",
      "|indie| can|          2043|\n",
      "|indie|  oh|          2037|\n",
      "|indie|time|          1981|\n",
      "|indie|  go|          1980|\n",
      "+-----+----+--------------+\n",
      "\n",
      "+-----+----+--------------+\n",
      "|genre|word|sum(wordcount)|\n",
      "+-----+----+--------------+\n",
      "| rock|will|          8996|\n",
      "| rock|know|          6546|\n",
      "| rock|love|          5674|\n",
      "| rock|just|          5561|\n",
      "| rock|like|          5164|\n",
      "| rock| now|          4826|\n",
      "| rock|  go|          4691|\n",
      "| rock| can|          4574|\n",
      "| rock|time|          4541|\n",
      "| rock|come|          4312|\n",
      "+-----+----+--------------+\n",
      "\n",
      "+-------+----+--------------+\n",
      "|  genre|word|sum(wordcount)|\n",
      "+-------+----+--------------+\n",
      "|Hip-Hop|like|          3381|\n",
      "|Hip-Hop| get|          2774|\n",
      "|Hip-Hop|  la|          2027|\n",
      "|Hip-Hop| got|          1991|\n",
      "|Hip-Hop|know|          1953|\n",
      "|Hip-Hop|  de|          1826|\n",
      "|Hip-Hop|just|          1709|\n",
      "|Hip-Hop|will|          1669|\n",
      "|Hip-Hop| one|          1478|\n",
      "|Hip-Hop| now|          1418|\n",
      "+-------+----+--------------+\n",
      "\n"
     ]
    }
   ],
   "source": [
    "\n",
    "#Print lists of most common words for the top 5 most common genre tags\n",
    "top_genres = {\"rock\", \"pop\", \"alternative\", \"indie\", \"Hip-Hop\"}\n",
    "genre_top_words = []\n",
    "\n",
    "for genre in top_genres:\n",
    "    #genre_top_words += \n",
    "    wordcount_genre.filter(wordcount_genre[\"genre\"] == genre)\\\n",
    "            .groupBy(\"genre\", \"word\")\\\n",
    "            .agg(F.sum(\"wordcount\"))\\\n",
    "            .sort(\"sum(wordcount)\", ascending=False)\\\n",
    "            .limit(10)\\\n",
    "            .show()"
   ]
  },
  {
   "cell_type": "code",
   "execution_count": 3,
   "id": "multiple-dakota",
   "metadata": {},
   "outputs": [],
   "source": [
    "spark_context.stop()"
   ]
  },
  {
   "cell_type": "code",
   "execution_count": null,
   "id": "vocal-change",
   "metadata": {},
   "outputs": [],
   "source": [
    "\n",
    "import pandas as pd\n",
    "import matplotlib.pyplot as plt\n",
    "\n",
    "#print(genre_top_words)\n",
    "\n",
    "#df = pd.DataFrame({'word': ['word1', 'word2'], 'count': [12898, 4861]})\n",
    "#df.plot.bar(x='word', y='count', rot=0)"
   ]
  },
  {
   "cell_type": "code",
   "execution_count": 3,
   "id": "green-still",
   "metadata": {},
   "outputs": [
    {
     "ename": "IllegalArgumentException",
     "evalue": "requirement failed: The driver could not open a JDBC connection. Check the URL: hdfs://master:9000/user/ubuntu/jdbc:sqlite:mxm_dataset.db",
     "output_type": "error",
     "traceback": [
      "\u001b[0;31m---------------------------------------------------------------------------\u001b[0m",
      "\u001b[0;31mIllegalArgumentException\u001b[0m                  Traceback (most recent call last)",
      "\u001b[0;32m<ipython-input-3-3df2728b08f6>\u001b[0m in \u001b[0;36m<module>\u001b[0;34m\u001b[0m\n\u001b[0;32m----> 1\u001b[0;31m \u001b[0mdf\u001b[0m \u001b[0;34m=\u001b[0m \u001b[0mspark_session\u001b[0m\u001b[0;34m.\u001b[0m\u001b[0mread\u001b[0m\u001b[0;34m.\u001b[0m\u001b[0mformat\u001b[0m\u001b[0;34m(\u001b[0m\u001b[0;34m'jdbc'\u001b[0m\u001b[0;34m)\u001b[0m\u001b[0;34m.\u001b[0m\u001b[0moptions\u001b[0m\u001b[0;34m(\u001b[0m\u001b[0murl\u001b[0m\u001b[0;34m=\u001b[0m\u001b[0;34m'hdfs://master:9000/user/ubuntu/jdbc:sqlite:mxm_dataset.db'\u001b[0m\u001b[0;34m,\u001b[0m\u001b[0mdbtable\u001b[0m\u001b[0;34m=\u001b[0m\u001b[0;34m'lyrics'\u001b[0m\u001b[0;34m,\u001b[0m\u001b[0mdriver\u001b[0m\u001b[0;34m=\u001b[0m\u001b[0;34m'org.sqlite.JDBC'\u001b[0m\u001b[0;34m)\u001b[0m\u001b[0;34m.\u001b[0m\u001b[0mload\u001b[0m\u001b[0;34m(\u001b[0m\u001b[0;34m)\u001b[0m\u001b[0;34m\u001b[0m\u001b[0;34m\u001b[0m\u001b[0m\n\u001b[0m\u001b[1;32m      2\u001b[0m \u001b[0;34m\u001b[0m\u001b[0m\n\u001b[1;32m      3\u001b[0m \u001b[0mdf\u001b[0m\u001b[0;34m.\u001b[0m\u001b[0mshow\u001b[0m\u001b[0;34m(\u001b[0m\u001b[0;36m2\u001b[0m\u001b[0;34m)\u001b[0m\u001b[0;34m\u001b[0m\u001b[0;34m\u001b[0m\u001b[0m\n",
      "\u001b[0;32m~/.local/lib/python3.8/site-packages/pyspark/sql/readwriter.py\u001b[0m in \u001b[0;36mload\u001b[0;34m(self, path, format, schema, **options)\u001b[0m\n\u001b[1;32m    208\u001b[0m             \u001b[0;32mreturn\u001b[0m \u001b[0mself\u001b[0m\u001b[0;34m.\u001b[0m\u001b[0m_df\u001b[0m\u001b[0;34m(\u001b[0m\u001b[0mself\u001b[0m\u001b[0;34m.\u001b[0m\u001b[0m_jreader\u001b[0m\u001b[0;34m.\u001b[0m\u001b[0mload\u001b[0m\u001b[0;34m(\u001b[0m\u001b[0mself\u001b[0m\u001b[0;34m.\u001b[0m\u001b[0m_spark\u001b[0m\u001b[0;34m.\u001b[0m\u001b[0m_sc\u001b[0m\u001b[0;34m.\u001b[0m\u001b[0m_jvm\u001b[0m\u001b[0;34m.\u001b[0m\u001b[0mPythonUtils\u001b[0m\u001b[0;34m.\u001b[0m\u001b[0mtoSeq\u001b[0m\u001b[0;34m(\u001b[0m\u001b[0mpath\u001b[0m\u001b[0;34m)\u001b[0m\u001b[0;34m)\u001b[0m\u001b[0;34m)\u001b[0m\u001b[0;34m\u001b[0m\u001b[0;34m\u001b[0m\u001b[0m\n\u001b[1;32m    209\u001b[0m         \u001b[0;32melse\u001b[0m\u001b[0;34m:\u001b[0m\u001b[0;34m\u001b[0m\u001b[0;34m\u001b[0m\u001b[0m\n\u001b[0;32m--> 210\u001b[0;31m             \u001b[0;32mreturn\u001b[0m \u001b[0mself\u001b[0m\u001b[0;34m.\u001b[0m\u001b[0m_df\u001b[0m\u001b[0;34m(\u001b[0m\u001b[0mself\u001b[0m\u001b[0;34m.\u001b[0m\u001b[0m_jreader\u001b[0m\u001b[0;34m.\u001b[0m\u001b[0mload\u001b[0m\u001b[0;34m(\u001b[0m\u001b[0;34m)\u001b[0m\u001b[0;34m)\u001b[0m\u001b[0;34m\u001b[0m\u001b[0;34m\u001b[0m\u001b[0m\n\u001b[0m\u001b[1;32m    211\u001b[0m \u001b[0;34m\u001b[0m\u001b[0m\n\u001b[1;32m    212\u001b[0m     def json(self, path, schema=None, primitivesAsString=None, prefersDecimal=None,\n",
      "\u001b[0;32m~/.local/lib/python3.8/site-packages/py4j/java_gateway.py\u001b[0m in \u001b[0;36m__call__\u001b[0;34m(self, *args)\u001b[0m\n\u001b[1;32m   1302\u001b[0m \u001b[0;34m\u001b[0m\u001b[0m\n\u001b[1;32m   1303\u001b[0m         \u001b[0manswer\u001b[0m \u001b[0;34m=\u001b[0m \u001b[0mself\u001b[0m\u001b[0;34m.\u001b[0m\u001b[0mgateway_client\u001b[0m\u001b[0;34m.\u001b[0m\u001b[0msend_command\u001b[0m\u001b[0;34m(\u001b[0m\u001b[0mcommand\u001b[0m\u001b[0;34m)\u001b[0m\u001b[0;34m\u001b[0m\u001b[0;34m\u001b[0m\u001b[0m\n\u001b[0;32m-> 1304\u001b[0;31m         return_value = get_return_value(\n\u001b[0m\u001b[1;32m   1305\u001b[0m             answer, self.gateway_client, self.target_id, self.name)\n\u001b[1;32m   1306\u001b[0m \u001b[0;34m\u001b[0m\u001b[0m\n",
      "\u001b[0;32m~/.local/lib/python3.8/site-packages/pyspark/sql/utils.py\u001b[0m in \u001b[0;36mdeco\u001b[0;34m(*a, **kw)\u001b[0m\n\u001b[1;32m    115\u001b[0m                 \u001b[0;31m# Hide where the exception came from that shows a non-Pythonic\u001b[0m\u001b[0;34m\u001b[0m\u001b[0;34m\u001b[0m\u001b[0;34m\u001b[0m\u001b[0m\n\u001b[1;32m    116\u001b[0m                 \u001b[0;31m# JVM exception message.\u001b[0m\u001b[0;34m\u001b[0m\u001b[0;34m\u001b[0m\u001b[0;34m\u001b[0m\u001b[0m\n\u001b[0;32m--> 117\u001b[0;31m                 \u001b[0;32mraise\u001b[0m \u001b[0mconverted\u001b[0m \u001b[0;32mfrom\u001b[0m \u001b[0;32mNone\u001b[0m\u001b[0;34m\u001b[0m\u001b[0;34m\u001b[0m\u001b[0m\n\u001b[0m\u001b[1;32m    118\u001b[0m             \u001b[0;32melse\u001b[0m\u001b[0;34m:\u001b[0m\u001b[0;34m\u001b[0m\u001b[0;34m\u001b[0m\u001b[0m\n\u001b[1;32m    119\u001b[0m                 \u001b[0;32mraise\u001b[0m\u001b[0;34m\u001b[0m\u001b[0;34m\u001b[0m\u001b[0m\n",
      "\u001b[0;31mIllegalArgumentException\u001b[0m: requirement failed: The driver could not open a JDBC connection. Check the URL: hdfs://master:9000/user/ubuntu/jdbc:sqlite:mxm_dataset.db"
     ]
    }
   ],
   "source": [
    "df = spark_session.read.format('jdbc').options(url='hdfs://master:9000/user/ubuntu/jdbc:sqlite:mxm_dataset.db',dbtable='lyrics',driver='org.sqlite.JDBC').load()\n",
    "\n",
    "df.show(2)"
   ]
  },
  {
   "cell_type": "code",
   "execution_count": null,
   "id": "exposed-lambda",
   "metadata": {},
   "outputs": [],
   "source": []
  }
 ],
 "metadata": {
  "kernelspec": {
   "display_name": "Python 3",
   "language": "python",
   "name": "python3"
  },
  "language_info": {
   "codemirror_mode": {
    "name": "ipython",
    "version": 3
   },
   "file_extension": ".py",
   "mimetype": "text/x-python",
   "name": "python",
   "nbconvert_exporter": "python",
   "pygments_lexer": "ipython3",
   "version": "3.8.5"
  }
 },
 "nbformat": 4,
 "nbformat_minor": 5
}
