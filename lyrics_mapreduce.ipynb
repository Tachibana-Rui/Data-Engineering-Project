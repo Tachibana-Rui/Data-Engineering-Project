{
 "cells": [
  {
   "cell_type": "code",
   "execution_count": 262,
   "id": "physical-billion",
   "metadata": {},
   "outputs": [],
   "source": [
    "from pyspark.sql import SparkSession\n",
    "from operator import add\n",
    "\n",
    "# New API\n",
    "spark_session = SparkSession\\\n",
    "        .builder\\\n",
    "        .master(\"spark://192.168.2.111:7077\") \\\n",
    "        .appName(\"lyrics_mapreduce\")\\\n",
    "        .config(\"spark.dynamicAllocation.executorIdleTimeout\",\"30s\")\\\n",
    "        .config(\"spark.executor.cores\", 4)\\\n",
    "        .config(\"spark.cores.max\", 8)\\\n",
    "        .config(\"spark.driver.port\",9998)\\\n",
    "        .config(\"spark.blockManager.port\",10005)\\\n",
    "        .getOrCreate()\n",
    "\n",
    "# Old API (RDD)\n",
    "spark_context = spark_session.sparkContext\n",
    "\n",
    "spark_context.setLogLevel(\"INFO\")"
   ]
  },
  {
   "cell_type": "code",
   "execution_count": 263,
   "id": "entire-royal",
   "metadata": {},
   "outputs": [],
   "source": [
    "import pyspark.sql.functions as F\n",
    "\n",
    "lyrics = spark_session.read\\\n",
    "           .option(\"header\", \"true\")\\\n",
    "           .csv(\"hdfs://192.168.2.111:9000/user/ubuntu/lyrics_database.csv\")\n",
    "\n",
    "lastfm = spark_session.read\\\n",
    "           .json(\"hdfs://192.168.2.111:9000/user/ubuntu/lastfm/lastfm_test/*/*/*\")\\\n",
    "            .repartition(30)\\\n",
    "           .cache()"
   ]
  },
  {
   "cell_type": "code",
   "execution_count": null,
   "id": "returning-creek",
   "metadata": {},
   "outputs": [],
   "source": []
  },
  {
   "cell_type": "code",
   "execution_count": 264,
   "id": "featured-partition",
   "metadata": {},
   "outputs": [],
   "source": [
    "from pyspark.sql.types import *\n",
    "\n",
    "genre = lastfm.filter(F.size(lastfm[\"tags\"]) > 0 )\\\n",
    "        .select(\"tags\", \"track_id\").cache()"
   ]
  },
  {
   "cell_type": "code",
   "execution_count": null,
   "id": "lasting-serbia",
   "metadata": {},
   "outputs": [],
   "source": [
    "lyrics.show(3)\n",
    "genre.show(4)\n",
    "genre.printSchema()\n",
    "lyrics.printSchema()\n",
    "lyrics.count()"
   ]
  },
  {
   "cell_type": "code",
   "execution_count": 265,
   "id": "organizational-appendix",
   "metadata": {},
   "outputs": [
    {
     "name": "stdout",
     "output_type": "stream",
     "text": [
      "+------------------+----+-----+--------------------+\n",
      "|          track_id|word|count|                tags|\n",
      "+------------------+----+-----+--------------------+\n",
      "|TRAGRAZ128F4219FB4|   i|   13|[[ska, 100], [ska...|\n",
      "|TRAGRAZ128F4219FB4| the|    1|[[ska, 100], [ska...|\n",
      "|TRAGRAZ128F4219FB4| you|    9|[[ska, 100], [ska...|\n",
      "|TRAGRAZ128F4219FB4|  to|    3|[[ska, 100], [ska...|\n",
      "+------------------+----+-----+--------------------+\n",
      "only showing top 4 rows\n",
      "\n"
     ]
    },
    {
     "data": {
      "text/plain": [
       "1622597"
      ]
     },
     "execution_count": 265,
     "metadata": {},
     "output_type": "execute_result"
    }
   ],
   "source": [
    "paired_songs = lyrics.join(genre, \"track_id\").cache()\n",
    "paired_songs.show(4)\n",
    "\n",
    "paired_songs.count()"
   ]
  },
  {
   "cell_type": "code",
   "execution_count": 266,
   "id": "wrong-consumer",
   "metadata": {},
   "outputs": [
    {
     "name": "stdout",
     "output_type": "stream",
     "text": [
      "+----+-----+--------------+\n",
      "|word|count|         genre|\n",
      "+----+-----+--------------+\n",
      "|know|    1|    [ska, 100]|\n",
      "|know|    1|[ska punk, 70]|\n",
      "|know|    1|    [rock, 20]|\n",
      "+----+-----+--------------+\n",
      "only showing top 3 rows\n",
      "\n"
     ]
    }
   ],
   "source": [
    "from stop_words import get_stop_words\n",
    "\n",
    "stopwords = get_stop_words(\"english\")\n",
    "\n",
    "songs_lite = paired_songs.filter(paired_songs['word'].isin(stopwords)==False)\\\n",
    "                        .select(paired_songs[\"tags\"], \\\n",
    "                                paired_songs[\"word\"],\\\n",
    "                                paired_songs[\"count\"],\\\n",
    "                                F.explode(paired_songs[\"tags\"]))\\\n",
    "                        .drop(\"tags\")\\\n",
    "                        .withColumnRenamed(\"col\",\"genre\")\\\n",
    "                        .cache()\n",
    "    \n",
    "songs_lite.show(3)"
   ]
  },
  {
   "cell_type": "code",
   "execution_count": 267,
   "id": "southwest-boost",
   "metadata": {},
   "outputs": [
    {
     "name": "stdout",
     "output_type": "stream",
     "text": [
      "+----+--------+---------+\n",
      "|word|   genre|wordcount|\n",
      "+----+--------+---------+\n",
      "|know|     ska|        1|\n",
      "|know|ska punk|        1|\n",
      "+----+--------+---------+\n",
      "only showing top 2 rows\n",
      "\n"
     ]
    }
   ],
   "source": [
    "import pyspark.sql.types\n",
    "\n",
    "\n",
    "def remove_similarity(genre_tuple):\n",
    "    genre, _ = genre_tuple\n",
    "            \n",
    "    return genre\n",
    "\n",
    "tags_function = F.udf(remove_similarity, StringType())\n",
    "\n",
    "\n",
    "wordcount_genre = songs_lite.withColumn(\"genre\", tags_function(songs_lite[\"genre\"]))\\\n",
    "                            .withColumn(\"wordcount\", songs_lite[\"count\"].cast(IntegerType()))\\\n",
    "                            .drop(\"count\")\\\n",
    "                            .cache()\n",
    "\n",
    "wordcount_genre.show(2)"
   ]
  },
  {
   "cell_type": "code",
   "execution_count": 268,
   "id": "regulated-greene",
   "metadata": {},
   "outputs": [
    {
     "name": "stdout",
     "output_type": "stream",
     "text": [
      "+-----+-----+-----+\n",
      "| word|genre|count|\n",
      "+-----+-----+-----+\n",
      "| time| rock|  934|\n",
      "| know| rock|  899|\n",
      "|  see| rock|  872|\n",
      "|  now| rock|  855|\n",
      "|  can| rock|  820|\n",
      "|   go| rock|  812|\n",
      "| come| rock|  790|\n",
      "|  one| rock|  779|\n",
      "| feel| rock|  724|\n",
      "| make| rock|  721|\n",
      "| take| rock|  720|\n",
      "|  way| rock|  704|\n",
      "|  eye| rock|  700|\n",
      "|  say| rock|  700|\n",
      "|  get| rock|  685|\n",
      "|  day| rock|  667|\n",
      "| time|  pop|  651|\n",
      "|never| rock|  649|\n",
      "| back| rock|  646|\n",
      "| away| rock|  643|\n",
      "+-----+-----+-----+\n",
      "only showing top 20 rows\n",
      "\n"
     ]
    }
   ],
   "source": [
    "wordcount_genre.groupBy(wordcount_genre[\"word\"], wordcount_genre[\"wordcount\"], wordcount_genre[\"genre\"])\\\n",
    "                .count()\\\n",
    "                .sort(\"count\",ascending=False)\\\n",
    "                .drop(\"wordcount\")\\\n",
    "                .show()"
   ]
  },
  {
   "cell_type": "code",
   "execution_count": 246,
   "id": "macro-addition",
   "metadata": {},
   "outputs": [
    {
     "name": "stdout",
     "output_type": "stream",
     "text": [
      "+----------------+------+-----+\n",
      "|           genre|  word|count|\n",
      "+----------------+------+-----+\n",
      "|            rock|  know| 2253|\n",
      "|            rock|   now| 1879|\n",
      "|            rock|  time| 1850|\n",
      "|            rock|   can| 1767|\n",
      "|             pop|  know| 1713|\n",
      "|            rock|    go| 1695|\n",
      "|            rock|   see| 1690|\n",
      "|            rock|  come| 1627|\n",
      "|            rock|   one| 1592|\n",
      "|            rock|  love| 1566|\n",
      "|            rock|  feel| 1526|\n",
      "|            rock|   get| 1517|\n",
      "|             pop|  love| 1496|\n",
      "|            rock| never| 1413|\n",
      "|            rock|  make| 1392|\n",
      "|            rock|   say| 1386|\n",
      "|            rock|   way| 1360|\n",
      "|             pop|   can| 1356|\n",
      "|            rock|  take| 1355|\n",
      "|             pop|  time| 1352|\n",
      "|            rock|   got| 1339|\n",
      "|             pop|   now| 1308|\n",
      "|            rock|    ca| 1297|\n",
      "|             pop|    go| 1290|\n",
      "|             pop|   see| 1253|\n",
      "|     alternative|  know| 1238|\n",
      "|            rock|  want| 1234|\n",
      "|            rock|   day| 1214|\n",
      "|            rock|  away| 1208|\n",
      "|            rock|  back| 1198|\n",
      "|             pop|  come| 1197|\n",
      "|             pop|  feel| 1173|\n",
      "|            rock|    oh| 1171|\n",
      "|            rock|   let| 1168|\n",
      "|            rock|  look| 1148|\n",
      "|             pop|   get| 1138|\n",
      "|            rock|   eye| 1133|\n",
      "|             pop|   one| 1128|\n",
      "|           indie|  know| 1125|\n",
      "|             pop|   say| 1093|\n",
      "|             pop|  make| 1055|\n",
      "|             pop| never| 1054|\n",
      "|            rock| think| 1051|\n",
      "|             pop|   got| 1047|\n",
      "|            rock|  life| 1045|\n",
      "|     alternative|   now| 1016|\n",
      "|             pop|    oh| 1012|\n",
      "|            rock| heart| 1010|\n",
      "|             pop|  want| 1005|\n",
      "|female vocalists|  know|  998|\n",
      "|            rock| night|  997|\n",
      "|     alternative|  time|  996|\n",
      "|            rock| thing|  995|\n",
      "|     alternative|   can|  982|\n",
      "|             pop|   way|  981|\n",
      "|             pop|    ca|  969|\n",
      "|             pop|   let|  961|\n",
      "|            rock| right|  959|\n",
      "|             pop|  take|  958|\n",
      "|            rock|  need|  948|\n",
      "|            rock|  caus|  939|\n",
      "|     alternative|   see|  938|\n",
      "|           indie|   now|  918|\n",
      "|            rock|   tri|  912|\n",
      "|female vocalists|  love|  910|\n",
      "|     alternative|    go|  903|\n",
      "|            rock|  well|  895|\n",
      "|           indie|   can|  893|\n",
      "|     alternative|  feel|  885|\n",
      "|       favorites|  know|  881|\n",
      "|     alternative|  come|  867|\n",
      "|            rock|  turn|  859|\n",
      "|             pop|   day|  856|\n",
      "|            rock|  tell|  851|\n",
      "|           indie|  time|  850|\n",
      "|     alternative|   one|  847|\n",
      "|             pop|  look|  840|\n",
      "|     alternative|   get|  840|\n",
      "|female vocalists|   can|  835|\n",
      "|           indie|   see|  834|\n",
      "|            rock|  mind|  834|\n",
      "|            rock|  find|  830|\n",
      "|            rock|  onli|  818|\n",
      "|            rock| still|  817|\n",
      "|female vocalists|   now|  813|\n",
      "|             pop| think|  813|\n",
      "|            rock|around|  813|\n",
      "|     alternative| never|  811|\n",
      "|            Love|  love|  809|\n",
      "|            rock| world|  808|\n",
      "|             pop| heart|  807|\n",
      "|            Love|  know|  806|\n",
      "|             pop|  away|  806|\n",
      "|           indie|    go|  806|\n",
      "|             pop|  caus|  806|\n",
      "|     alternative|  love|  801|\n",
      "|             pop|  back|  798|\n",
      "|     alternative|  make|  794|\n",
      "|             00s|  know|  790|\n",
      "|            rock|  hand|  788|\n",
      "+----------------+------+-----+\n",
      "only showing top 100 rows\n",
      "\n"
     ]
    }
   ],
   "source": [
    "wordcount_genre.groupBy(\"genre\", \"word\").count().sort(\"count\", ascending=False).show(100)"
   ]
  },
  {
   "cell_type": "code",
   "execution_count": 247,
   "id": "infrared-parish",
   "metadata": {},
   "outputs": [
    {
     "name": "stdout",
     "output_type": "stream",
     "text": [
      "+-----------------+------+\n",
      "|            genre| count|\n",
      "+-----------------+------+\n",
      "|             rock|270730|\n",
      "|              pop|194131|\n",
      "|      alternative|151691|\n",
      "|            indie|133500|\n",
      "| female vocalists|118503|\n",
      "|          Hip-Hop|117014|\n",
      "|            metal|112044|\n",
      "|        favorites|110182|\n",
      "|          hip hop| 97384|\n",
      "|              rap| 97082|\n",
      "|              00s| 94792|\n",
      "|             Love| 92879|\n",
      "| alternative rock| 88059|\n",
      "|        seen live| 79477|\n",
      "|        beautiful| 73125|\n",
      "|   male vocalists| 72457|\n",
      "|       indie rock| 72045|\n",
      "|          Awesome| 70776|\n",
      "|singer-songwriter| 70399|\n",
      "|       electronic| 68566|\n",
      "+-----------------+------+\n",
      "only showing top 20 rows\n",
      "\n"
     ]
    }
   ],
   "source": [
    "wordcount_genre.groupBy(\"genre\").count().sort(\"count\", ascending=False).show()"
   ]
  },
  {
   "cell_type": "code",
   "execution_count": 269,
   "id": "informative-inflation",
   "metadata": {},
   "outputs": [
    {
     "name": "stdout",
     "output_type": "stream",
     "text": [
      "+-----+----+-----+\n",
      "|genre|word|count|\n",
      "+-----+----+-----+\n",
      "|indie|know| 1125|\n",
      "|indie| now|  918|\n",
      "|indie| can|  893|\n",
      "|indie|time|  850|\n",
      "|indie| see|  834|\n",
      "|indie|  go|  806|\n",
      "|indie|come|  783|\n",
      "|indie| get|  749|\n",
      "|indie| one|  748|\n",
      "|indie|love|  736|\n",
      "+-----+----+-----+\n",
      "\n",
      "+-----------+----+-----+\n",
      "|      genre|word|count|\n",
      "+-----------+----+-----+\n",
      "|alternative|know| 1238|\n",
      "|alternative| now| 1016|\n",
      "|alternative|time|  996|\n",
      "|alternative| can|  982|\n",
      "|alternative| see|  938|\n",
      "|alternative|  go|  903|\n",
      "|alternative|feel|  885|\n",
      "|alternative|come|  867|\n",
      "|alternative| one|  847|\n",
      "|alternative| get|  840|\n",
      "+-----------+----+-----+\n",
      "\n",
      "+-------+----+-----+\n",
      "|  genre|word|count|\n",
      "+-------+----+-----+\n",
      "|Hip-Hop| get|  582|\n",
      "|Hip-Hop|know|  550|\n",
      "|Hip-Hop| got|  543|\n",
      "|Hip-Hop| now|  497|\n",
      "|Hip-Hop| one|  464|\n",
      "|Hip-Hop| can|  452|\n",
      "|Hip-Hop|back|  422|\n",
      "|Hip-Hop| see|  422|\n",
      "|Hip-Hop|come|  420|\n",
      "|Hip-Hop|make|  416|\n",
      "+-------+----+-----+\n",
      "\n",
      "+-----+----+-----+\n",
      "|genre|word|count|\n",
      "+-----+----+-----+\n",
      "| rock|know| 2253|\n",
      "| rock| now| 1879|\n",
      "| rock|time| 1850|\n",
      "| rock| can| 1767|\n",
      "| rock|  go| 1695|\n",
      "| rock| see| 1690|\n",
      "| rock|come| 1627|\n",
      "| rock| one| 1592|\n",
      "| rock|love| 1566|\n",
      "| rock|feel| 1526|\n",
      "+-----+----+-----+\n",
      "\n",
      "+-----+----+-----+\n",
      "|genre|word|count|\n",
      "+-----+----+-----+\n",
      "|  pop|know| 1713|\n",
      "|  pop|love| 1496|\n",
      "|  pop| can| 1356|\n",
      "|  pop|time| 1352|\n",
      "|  pop| now| 1308|\n",
      "|  pop|  go| 1290|\n",
      "|  pop| see| 1253|\n",
      "|  pop|come| 1197|\n",
      "|  pop|feel| 1173|\n",
      "|  pop| get| 1138|\n",
      "+-----+----+-----+\n",
      "\n"
     ]
    }
   ],
   "source": [
    "\n",
    "import pandas as pd\n",
    "import matplotlib.pyplot as plt\n",
    "\n",
    "top_genres = {\"rock\", \"pop\", \"alternative\", \"indie\", \"Hip-Hop\"}\n",
    "genre_top_words = []\n",
    "\n",
    "for genre in top_genres:\n",
    "    #genre_top_words += \n",
    "    wordcount_genre.filter(wordcount_genre[\"genre\"] == genre)\\\n",
    "            .groupBy(\"genre\", \"word\")\\\n",
    "            .count()\\\n",
    "            .sort(\"count\", ascending=False)\\\n",
    "            .limit(10)\\\n",
    "            .show()\n",
    "\n",
    "#print(genre_top_words)\n",
    "\n",
    "#df = pd.DataFrame({'word': ['word1', 'word2'], 'count': [12898, 4861]})\n",
    "#df.plot.bar(x='word', y='count', rot=0)"
   ]
  },
  {
   "cell_type": "code",
   "execution_count": 270,
   "id": "annoying-bulgarian",
   "metadata": {},
   "outputs": [],
   "source": [
    "spark_context.stop()"
   ]
  },
  {
   "cell_type": "code",
   "execution_count": null,
   "id": "developed-silver",
   "metadata": {},
   "outputs": [],
   "source": []
  }
 ],
 "metadata": {
  "kernelspec": {
   "display_name": "Python 3",
   "language": "python",
   "name": "python3"
  },
  "language_info": {
   "codemirror_mode": {
    "name": "ipython",
    "version": 3
   },
   "file_extension": ".py",
   "mimetype": "text/x-python",
   "name": "python",
   "nbconvert_exporter": "python",
   "pygments_lexer": "ipython3",
   "version": "3.8.5"
  }
 },
 "nbformat": 4,
 "nbformat_minor": 5
}
